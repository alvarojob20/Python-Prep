{
 "cells": [
  {
   "cell_type": "markdown",
   "metadata": {},
   "source": [
    "## Flujos de Control"
   ]
  },
  {
   "cell_type": "markdown",
   "metadata": {},
   "source": [
    "1) Crear una variable que contenga un elemento del conjunto de números enteros y luego imprimir por pantalla si es mayor o menor a cero"
   ]
  },
  {
   "cell_type": "code",
   "execution_count": 2,
   "metadata": {},
   "outputs": [
    {
     "name": "stdout",
     "output_type": "stream",
     "text": [
      "-34  es menor a cero.\n"
     ]
    }
   ],
   "source": [
    "n = -34\n",
    "\n",
    "if (n > 0):\n",
    "    print(n, ' es mayor a cero.')\n",
    "elif (n < 0):\n",
    "    print(n, ' es menor a cero.')\n",
    "else :\n",
    "    print(n, ' es igual a cero')"
   ]
  },
  {
   "cell_type": "markdown",
   "metadata": {},
   "source": [
    "2) Crear dos variables y un condicional que informe si son del mismo tipo de dato"
   ]
  },
  {
   "cell_type": "code",
   "execution_count": 3,
   "metadata": {},
   "outputs": [
    {
     "name": "stdout",
     "output_type": "stream",
     "text": [
      "Las dos variables no son del mismo tipo de dato\n"
     ]
    }
   ],
   "source": [
    "var1 = 3.25\n",
    "var2 = '34'\n",
    "\n",
    "if (type(var1) == type(var2)):\n",
    "    print('Las dos variables son del mismo tipo de dato')\n",
    "else:\n",
    "    print('Las dos variables no son del mismo tipo de dato')"
   ]
  },
  {
   "cell_type": "markdown",
   "metadata": {},
   "source": [
    "3) Para los valores enteros del 1 al 20, imprimir por pantalla si es par o impar"
   ]
  },
  {
   "cell_type": "code",
   "execution_count": 4,
   "metadata": {},
   "outputs": [
    {
     "name": "stdout",
     "output_type": "stream",
     "text": [
      "1  es impar.\n",
      "2  es par.\n",
      "3  es impar.\n",
      "4  es par.\n",
      "5  es impar.\n",
      "6  es par.\n",
      "7  es impar.\n",
      "8  es par.\n",
      "9  es impar.\n",
      "10  es par.\n",
      "11  es impar.\n",
      "12  es par.\n",
      "13  es impar.\n",
      "14  es par.\n",
      "15  es impar.\n",
      "16  es par.\n",
      "17  es impar.\n",
      "18  es par.\n",
      "19  es impar.\n",
      "20  es par.\n"
     ]
    }
   ],
   "source": [
    "for num in range(1,21):\n",
    "    if num % 2 == 1:\n",
    "        print(num, ' es impar.')\n",
    "    else:\n",
    "        print(num, ' es par.')\n",
    "\n"
   ]
  },
  {
   "cell_type": "markdown",
   "metadata": {},
   "source": [
    "4) En un ciclo for mostrar para los valores entre 0 y 5 el resultado de elevarlo a la potencia igual a 3"
   ]
  },
  {
   "cell_type": "code",
   "execution_count": 5,
   "metadata": {},
   "outputs": [
    {
     "name": "stdout",
     "output_type": "stream",
     "text": [
      "0  elevado a la potencia igual a 3 es  0\n",
      "1  elevado a la potencia igual a 3 es  1\n",
      "2  elevado a la potencia igual a 3 es  8\n",
      "3  elevado a la potencia igual a 3 es  27\n",
      "4  elevado a la potencia igual a 3 es  64\n",
      "5  elevado a la potencia igual a 3 es  125\n"
     ]
    }
   ],
   "source": [
    "for num in range(0,6):\n",
    "    print(num, ' elevado a la potencia igual a 3 es ', str(num**3))\n"
   ]
  },
  {
   "cell_type": "markdown",
   "metadata": {},
   "source": [
    "5) Crear una variable que contenga un número entero y realizar un ciclo for la misma cantidad de ciclos"
   ]
  },
  {
   "cell_type": "code",
   "execution_count": 6,
   "metadata": {},
   "outputs": [
    {
     "name": "stdout",
     "output_type": "stream",
     "text": [
      "Iteracion  1\n",
      "Iteracion  2\n",
      "Iteracion  3\n",
      "Iteracion  4\n",
      "Iteracion  5\n",
      "Iteracion  6\n",
      "Iteracion  7\n",
      "Iteracion  8\n",
      "Iteracion  9\n",
      "Iteracion  10\n"
     ]
    }
   ],
   "source": [
    "iteraciones = 10\n",
    "\n",
    "for i in range(iteraciones):\n",
    "    print('Iteracion ', str(i+1))"
   ]
  },
  {
   "cell_type": "markdown",
   "metadata": {},
   "source": [
    "6) Utilizar un ciclo while para realizar el factorial de un número guardado en una variable, sólo si la variable contiene un número entero mayor a 0"
   ]
  },
  {
   "cell_type": "code",
   "execution_count": 7,
   "metadata": {},
   "outputs": [
    {
     "name": "stdout",
     "output_type": "stream",
     "text": [
      "El factorial es igual a  5040\n"
     ]
    }
   ],
   "source": [
    "var6 = 7\n",
    "\n",
    "if (type(var6) == int):\n",
    "    if var6 > 0:\n",
    "        fact = 1\n",
    "        while var6 > 0:\n",
    "            fact *= var6\n",
    "            var6 -= 1\n",
    "        print('El factorial es igual a ', fact)\n",
    "    else:\n",
    "        print('La variable no es mayor a cero')\n",
    "\n",
    "else:\n",
    "    print('La variable no es un numero entero')\n"
   ]
  },
  {
   "cell_type": "markdown",
   "metadata": {},
   "source": [
    "7) Crear un ciclo for dentro de un ciclo while"
   ]
  },
  {
   "cell_type": "code",
   "execution_count": 8,
   "metadata": {},
   "outputs": [
    {
     "name": "stdout",
     "output_type": "stream",
     "text": [
      "Iteracion while  1  Iteracion for  1\n",
      "Iteracion while  1  Iteracion for  2\n",
      "Iteracion while  1  Iteracion for  3\n",
      "Iteracion while  1  Iteracion for  4\n",
      "Iteracion while  1  Iteracion for  5\n",
      "Iteracion while  2  Iteracion for  1\n",
      "Iteracion while  2  Iteracion for  2\n",
      "Iteracion while  2  Iteracion for  3\n",
      "Iteracion while  2  Iteracion for  4\n",
      "Iteracion while  2  Iteracion for  5\n",
      "Iteracion while  3  Iteracion for  1\n",
      "Iteracion while  3  Iteracion for  2\n",
      "Iteracion while  3  Iteracion for  3\n",
      "Iteracion while  3  Iteracion for  4\n",
      "Iteracion while  3  Iteracion for  5\n",
      "Iteracion while  4  Iteracion for  1\n",
      "Iteracion while  4  Iteracion for  2\n",
      "Iteracion while  4  Iteracion for  3\n",
      "Iteracion while  4  Iteracion for  4\n",
      "Iteracion while  4  Iteracion for  5\n",
      "Iteracion while  5  Iteracion for  1\n",
      "Iteracion while  5  Iteracion for  2\n",
      "Iteracion while  5  Iteracion for  3\n",
      "Iteracion while  5  Iteracion for  4\n",
      "Iteracion while  5  Iteracion for  5\n"
     ]
    }
   ],
   "source": [
    "w = 5\n",
    "n = 1\n",
    "f = 5\n",
    "\n",
    "while n <= w:\n",
    "    for i in range(f):\n",
    "        print('Iteracion while ',n,' Iteracion for ', i+1)\n",
    "    n+=1"
   ]
  },
  {
   "cell_type": "markdown",
   "metadata": {},
   "source": [
    "8) Crear un ciclo while dentro de un ciclo for"
   ]
  },
  {
   "cell_type": "code",
   "execution_count": 9,
   "metadata": {},
   "outputs": [
    {
     "name": "stdout",
     "output_type": "stream",
     "text": [
      "Iteracion for  1  Iteracion while  1\n",
      "Iteracion for  1  Iteracion while  2\n",
      "Iteracion for  1  Iteracion while  3\n",
      "Iteracion for  1  Iteracion while  4\n",
      "Iteracion for  1  Iteracion while  5\n",
      "Iteracion for  2  Iteracion while  1\n",
      "Iteracion for  2  Iteracion while  2\n",
      "Iteracion for  2  Iteracion while  3\n",
      "Iteracion for  2  Iteracion while  4\n",
      "Iteracion for  2  Iteracion while  5\n",
      "Iteracion for  3  Iteracion while  1\n",
      "Iteracion for  3  Iteracion while  2\n",
      "Iteracion for  3  Iteracion while  3\n",
      "Iteracion for  3  Iteracion while  4\n",
      "Iteracion for  3  Iteracion while  5\n",
      "Iteracion for  4  Iteracion while  1\n",
      "Iteracion for  4  Iteracion while  2\n",
      "Iteracion for  4  Iteracion while  3\n",
      "Iteracion for  4  Iteracion while  4\n",
      "Iteracion for  4  Iteracion while  5\n",
      "Iteracion for  5  Iteracion while  1\n",
      "Iteracion for  5  Iteracion while  2\n",
      "Iteracion for  5  Iteracion while  3\n",
      "Iteracion for  5  Iteracion while  4\n",
      "Iteracion for  5  Iteracion while  5\n"
     ]
    }
   ],
   "source": [
    "w = 5\n",
    "n = 1\n",
    "f = 5\n",
    "\n",
    "for i in range(f):\n",
    "    while n <= w:\n",
    "        print('Iteracion for ', i+1,' Iteracion while ', n)\n",
    "        n+=1\n",
    "    n = 1\n"
   ]
  },
  {
   "cell_type": "markdown",
   "metadata": {},
   "source": [
    "9) Imprimir los números primos existentes entre 0 y 30"
   ]
  },
  {
   "cell_type": "code",
   "execution_count": 10,
   "metadata": {},
   "outputs": [
    {
     "name": "stdout",
     "output_type": "stream",
     "text": [
      "2  es un numero primo\n",
      "3  es un numero primo\n",
      "5  es un numero primo\n",
      "7  es un numero primo\n",
      "11  es un numero primo\n",
      "13  es un numero primo\n",
      "17  es un numero primo\n",
      "19  es un numero primo\n",
      "23  es un numero primo\n",
      "29  es un numero primo\n"
     ]
    }
   ],
   "source": [
    "rango = 30\n",
    "n = 0\n",
    "primo = True\n",
    "while n < rango :\n",
    "    n += 1\n",
    "    div = 0\n",
    "    for i in range(1,n):\n",
    "        if n % i == 0:\n",
    "            div += 1\n",
    "    if div == 1:\n",
    "        print(n, ' es un numero primo')\n"
   ]
  },
  {
   "cell_type": "markdown",
   "metadata": {},
   "source": [
    "10) ¿Se puede mejorar el proceso del punto 9? Utilizar las sentencias break y/ó continue para tal fin"
   ]
  },
  {
   "cell_type": "code",
   "execution_count": 33,
   "metadata": {},
   "outputs": [
    {
     "name": "stdout",
     "output_type": "stream",
     "text": [
      "2  es un numero primo\n",
      "3  es un numero primo\n",
      "5  es un numero primo\n",
      "7  es un numero primo\n",
      "11  es un numero primo\n",
      "13  es un numero primo\n",
      "17  es un numero primo\n",
      "19  es un numero primo\n",
      "23  es un numero primo\n",
      "29  es un numero primo\n"
     ]
    }
   ],
   "source": [
    "rango = 30\n",
    "n = 0\n",
    "primo = True\n",
    "while n < rango :\n",
    "    n += 1\n",
    "    div = 0\n",
    "    for i in range(1,n):\n",
    "        if n % i == 0:\n",
    "            div += 1\n",
    "            if div > 1:\n",
    "                break\n",
    "    if div == 1:\n",
    "        print(n, ' es un numero primo')\n"
   ]
  },
  {
   "cell_type": "markdown",
   "metadata": {},
   "source": [
    "11) En los puntos 9 y 10, se diseño un código que encuentra números primos y además se lo optimizó. ¿Es posible saber en qué medida se optimizó?"
   ]
  },
  {
   "cell_type": "code",
   "execution_count": 12,
   "metadata": {},
   "outputs": [
    {
     "name": "stdout",
     "output_type": "stream",
     "text": [
      "2  es un numero primo\n",
      "3  es un numero primo\n",
      "5  es un numero primo\n",
      "7  es un numero primo\n",
      "11  es un numero primo\n",
      "13  es un numero primo\n",
      "17  es un numero primo\n",
      "19  es un numero primo\n",
      "23  es un numero primo\n",
      "29  es un numero primo\n",
      "Numero de ciclos sin break:  435\n"
     ]
    }
   ],
   "source": [
    "sin_break = 0\n",
    "rango = 30\n",
    "n = 0\n",
    "while n < rango :\n",
    "    n += 1\n",
    "    div = 0\n",
    "    for i in range(1,n):\n",
    "        sin_break += 1\n",
    "        if n % i == 0:\n",
    "            div += 1\n",
    "    if div == 1:\n",
    "        print(n, ' es un numero primo')\n",
    "print('Numero de ciclos sin break: ', sin_break)\n"
   ]
  },
  {
   "cell_type": "code",
   "execution_count": 13,
   "metadata": {},
   "outputs": [
    {
     "name": "stdout",
     "output_type": "stream",
     "text": [
      "2  es un numero primo\n",
      "3  es un numero primo\n",
      "5  es un numero primo\n",
      "7  es un numero primo\n",
      "11  es un numero primo\n",
      "13  es un numero primo\n",
      "17  es un numero primo\n",
      "19  es un numero primo\n",
      "23  es un numero primo\n",
      "29  es un numero primo\n",
      "Numero de ciclos con break:  164\n",
      "Se optimizó a un 37.701149425287355% de ciclos aplicando break\n"
     ]
    }
   ],
   "source": [
    "con_break = 0\n",
    "rango = 30\n",
    "n = 0\n",
    "while n < rango :\n",
    "    n += 1\n",
    "    div = 0\n",
    "    for i in range(1,n):\n",
    "        con_break += 1\n",
    "        if n % i == 0:\n",
    "            div += 1\n",
    "            if div > 1:\n",
    "                break\n",
    "    if div == 1:\n",
    "        print(n, ' es un numero primo')\n",
    "print('Numero de ciclos con break: ', con_break)\n",
    "print('Se optimizó a un ' + str((con_break/sin_break*100)) + '% de ciclos aplicando break')"
   ]
  },
  {
   "cell_type": "markdown",
   "metadata": {},
   "source": [
    "12) Si la cantidad de números que se evalúa es mayor a treinta, esa optimización crece?"
   ]
  },
  {
   "cell_type": "code",
   "execution_count": 14,
   "metadata": {},
   "outputs": [
    {
     "name": "stdout",
     "output_type": "stream",
     "text": [
      "2  es un numero primo\n",
      "3  es un numero primo\n",
      "5  es un numero primo\n",
      "7  es un numero primo\n",
      "11  es un numero primo\n",
      "13  es un numero primo\n",
      "17  es un numero primo\n",
      "19  es un numero primo\n",
      "23  es un numero primo\n",
      "29  es un numero primo\n",
      "31  es un numero primo\n",
      "37  es un numero primo\n",
      "41  es un numero primo\n",
      "43  es un numero primo\n",
      "47  es un numero primo\n",
      "53  es un numero primo\n",
      "59  es un numero primo\n",
      "61  es un numero primo\n",
      "67  es un numero primo\n",
      "71  es un numero primo\n",
      "73  es un numero primo\n",
      "79  es un numero primo\n",
      "83  es un numero primo\n",
      "89  es un numero primo\n",
      "97  es un numero primo\n",
      "Numero de ciclos sin break:  4950\n"
     ]
    }
   ],
   "source": [
    "sin_break = 0\n",
    "rango = 100\n",
    "n = 0\n",
    "while n < rango :\n",
    "    n += 1\n",
    "    div = 0\n",
    "    for i in range(1,n):\n",
    "        sin_break += 1\n",
    "        if n % i == 0:\n",
    "            div += 1\n",
    "    if div == 1:\n",
    "        print(n, ' es un numero primo')\n",
    "print('Numero de ciclos sin break: ', sin_break)"
   ]
  },
  {
   "cell_type": "code",
   "execution_count": 15,
   "metadata": {},
   "outputs": [
    {
     "name": "stdout",
     "output_type": "stream",
     "text": [
      "2  es un numero primo\n",
      "3  es un numero primo\n",
      "5  es un numero primo\n",
      "7  es un numero primo\n",
      "11  es un numero primo\n",
      "13  es un numero primo\n",
      "17  es un numero primo\n",
      "19  es un numero primo\n",
      "23  es un numero primo\n",
      "29  es un numero primo\n",
      "31  es un numero primo\n",
      "37  es un numero primo\n",
      "41  es un numero primo\n",
      "43  es un numero primo\n",
      "47  es un numero primo\n",
      "53  es un numero primo\n",
      "59  es un numero primo\n",
      "61  es un numero primo\n",
      "67  es un numero primo\n",
      "71  es un numero primo\n",
      "73  es un numero primo\n",
      "79  es un numero primo\n",
      "83  es un numero primo\n",
      "89  es un numero primo\n",
      "97  es un numero primo\n",
      "Numero de ciclos con break:  1232\n",
      "Se optimizó a un 24.88888888888889% de ciclos aplicando break\n"
     ]
    }
   ],
   "source": [
    "con_break = 0\n",
    "rango = 100\n",
    "n = 0\n",
    "while n < rango :\n",
    "    n += 1\n",
    "    div = 0\n",
    "    for i in range(1,n):\n",
    "        con_break += 1\n",
    "        if n % i == 0:\n",
    "            div += 1\n",
    "            if div > 1:\n",
    "                break\n",
    "    if div == 1:\n",
    "        print(n, ' es un numero primo')\n",
    "print('Numero de ciclos con break: ', con_break)\n",
    "print('Se optimizó a un ' + str((con_break/sin_break*100)) + '% de ciclos aplicando break')"
   ]
  },
  {
   "cell_type": "markdown",
   "metadata": {},
   "source": [
    "13) Aplicando continue, armar un ciclo while que solo imprima los valores divisibles por 12, dentro del rango de números de 100 a 300"
   ]
  },
  {
   "cell_type": "code",
   "execution_count": 34,
   "metadata": {},
   "outputs": [
    {
     "name": "stdout",
     "output_type": "stream",
     "text": [
      "108  es divisible por 12\n",
      "120  es divisible por 12\n",
      "132  es divisible por 12\n",
      "144  es divisible por 12\n",
      "156  es divisible por 12\n",
      "168  es divisible por 12\n",
      "180  es divisible por 12\n",
      "192  es divisible por 12\n",
      "204  es divisible por 12\n",
      "216  es divisible por 12\n",
      "228  es divisible por 12\n",
      "240  es divisible por 12\n",
      "252  es divisible por 12\n",
      "264  es divisible por 12\n",
      "276  es divisible por 12\n",
      "288  es divisible por 12\n",
      "300  es divisible por 12\n"
     ]
    }
   ],
   "source": [
    "n = 99\n",
    "while(n <= 300):\n",
    "    n += 1\n",
    "    if (n % 12 != 0):\n",
    "        continue\n",
    "    print(n, ' es divisible por 12.')"
   ]
  },
  {
   "cell_type": "markdown",
   "metadata": {},
   "source": [
    "14) Utilizar la función **input()** que permite hacer ingresos por teclado, para encontrar números primos y dar la opción al usario de buscar el siguiente"
   ]
  },
  {
   "cell_type": "code",
   "execution_count": 55,
   "metadata": {},
   "outputs": [
    {
     "name": "stdout",
     "output_type": "stream",
     "text": [
      "2  es un numero primo\n",
      "Quiere busca el siguiente numero primo?\n",
      "3  es un numero primo\n",
      "Quiere busca el siguiente numero primo?\n",
      "5  es un numero primo\n",
      "Quiere busca el siguiente numero primo?\n",
      "7  es un numero primo\n",
      "Quiere busca el siguiente numero primo?\n",
      "11  es un numero primo\n",
      "Quiere busca el siguiente numero primo?\n",
      "13  es un numero primo\n",
      "Quiere busca el siguiente numero primo?\n",
      "17  es un numero primo\n",
      "Quiere busca el siguiente numero primo?\n",
      "19  es un numero primo\n",
      "Quiere busca el siguiente numero primo?\n",
      "23  es un numero primo\n",
      "Quiere busca el siguiente numero primo?\n",
      "29  es un numero primo\n",
      "Quiere busca el siguiente numero primo?\n",
      "31  es un numero primo\n",
      "Quiere busca el siguiente numero primo?\n",
      "37  es un numero primo\n",
      "Quiere busca el siguiente numero primo?\n",
      "41  es un numero primo\n",
      "Quiere busca el siguiente numero primo?\n",
      "43  es un numero primo\n",
      "Quiere busca el siguiente numero primo?\n",
      "47  es un numero primo\n",
      "Quiere busca el siguiente numero primo?\n",
      "53  es un numero primo\n",
      "Quiere busca el siguiente numero primo?\n",
      "Se termina la busqueda\n"
     ]
    }
   ],
   "source": [
    "n = 1\n",
    "\n",
    "while True :\n",
    "    div = 0\n",
    "    for i in range(1,n):\n",
    "        if n % i == 0:\n",
    "            div += 1\n",
    "            if div > 1:\n",
    "                break\n",
    "    if div == 1:\n",
    "        print(n, ' es un numero primo')\n",
    "        print('Quiere busca el siguiente numero primo?')\n",
    "\n",
    "        if input() != 'si':\n",
    "            print('Se termina la busqueda')\n",
    "            break\n",
    "    n += 1\n",
    "        \n",
    "            \n"
   ]
  },
  {
   "cell_type": "markdown",
   "metadata": {},
   "source": [
    "15) Crear un ciclo while que encuentre dentro del rango de 100 a 300 el primer número divisible por 3 y además múltiplo de 6"
   ]
  },
  {
   "cell_type": "code",
   "execution_count": 57,
   "metadata": {},
   "outputs": [
    {
     "name": "stdout",
     "output_type": "stream",
     "text": [
      "102  es divisible por 3 y ademas es multiplo de 6.\n"
     ]
    }
   ],
   "source": [
    "n = 100\n",
    "\n",
    "while n <= 300:\n",
    "    if (n % 6 == 0):\n",
    "        print(n , ' es divisible por 3 y ademas es multiplo de 6.')\n",
    "        break\n",
    "    n += 1"
   ]
  },
  {
   "cell_type": "code",
   "execution_count": null,
   "metadata": {},
   "outputs": [],
   "source": []
  }
 ],
 "metadata": {
  "interpreter": {
   "hash": "c85384e4cb51c8b72350f3a8712cc8351fdc3955e32a27f9b60c6242ab125f01"
  },
  "kernelspec": {
   "display_name": "Python 3 (ipykernel)",
   "language": "python",
   "name": "python3"
  },
  "language_info": {
   "codemirror_mode": {
    "name": "ipython",
    "version": 3
   },
   "file_extension": ".py",
   "mimetype": "text/x-python",
   "name": "python",
   "nbconvert_exporter": "python",
   "pygments_lexer": "ipython3",
   "version": "3.9.7"
  }
 },
 "nbformat": 4,
 "nbformat_minor": 4
}
