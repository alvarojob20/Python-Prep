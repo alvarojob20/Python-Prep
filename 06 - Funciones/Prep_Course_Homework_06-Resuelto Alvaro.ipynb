{
 "cells": [
  {
   "cell_type": "markdown",
   "metadata": {},
   "source": [
    "## Funciones"
   ]
  },
  {
   "cell_type": "markdown",
   "metadata": {},
   "source": [
    "1) Crear una función que reciba un número como parámetro y devuelva True si es primo y False si no lo es"
   ]
  },
  {
   "cell_type": "code",
   "execution_count": 2,
   "metadata": {},
   "outputs": [],
   "source": [
    "def es_primo (numero):\n",
    "    primo = True\n",
    "    if numero > 1 :\n",
    "        i = 1\n",
    "        while numero - i > 1:        \n",
    "            if numero % (numero - i) == 0 :\n",
    "                primo = False\n",
    "                break\n",
    "            i += 1\n",
    "    else:\n",
    "        primo = False\n",
    "    return primo\n"
   ]
  },
  {
   "cell_type": "code",
   "execution_count": 3,
   "metadata": {},
   "outputs": [
    {
     "data": {
      "text/plain": [
       "False"
      ]
     },
     "execution_count": 3,
     "metadata": {},
     "output_type": "execute_result"
    }
   ],
   "source": [
    "es_primo(6)"
   ]
  },
  {
   "cell_type": "code",
   "execution_count": 4,
   "metadata": {},
   "outputs": [
    {
     "data": {
      "text/plain": [
       "True"
      ]
     },
     "execution_count": 4,
     "metadata": {},
     "output_type": "execute_result"
    }
   ],
   "source": [
    "es_primo(7)"
   ]
  },
  {
   "cell_type": "markdown",
   "metadata": {},
   "source": [
    "2) Utilizando la función del punto 1, realizar otra función que reciba de parámetro una lista de números y devuelva sólo aquellos que son primos en otra lista"
   ]
  },
  {
   "cell_type": "code",
   "execution_count": 5,
   "metadata": {},
   "outputs": [],
   "source": [
    "def primos_lista (lista):\n",
    "    lista_primos = []\n",
    "    \n",
    "    for numero in lista:\n",
    "        primo = True\n",
    "        if numero > 1 :\n",
    "            i = 1\n",
    "            while numero - i > 1:        \n",
    "                if numero % (numero - i) == 0 :\n",
    "                    primo = False\n",
    "                    break\n",
    "                i += 1\n",
    "        else:\n",
    "            primo = False\n",
    "        if primo:\n",
    "            lista_primos.append(numero)\n",
    "    return lista_primos"
   ]
  },
  {
   "cell_type": "code",
   "execution_count": 6,
   "metadata": {},
   "outputs": [
    {
     "data": {
      "text/plain": [
       "[2, 3, 5, 7, 11, 13, 17, 19, 23, 29]"
      ]
     },
     "execution_count": 6,
     "metadata": {},
     "output_type": "execute_result"
    }
   ],
   "source": [
    "numeros = list(range(0,31))\n",
    "primos_lista(numeros)"
   ]
  },
  {
   "cell_type": "markdown",
   "metadata": {},
   "source": [
    "3) Crear una función que al recibir una lista de números, devuelva el que más se repite y cuántas veces lo hace. Si hay más de un \"más repetido\", que devuelva cualquiera"
   ]
  },
  {
   "cell_type": "code",
   "execution_count": 7,
   "metadata": {},
   "outputs": [],
   "source": [
    "def moda_lista (lista):\n",
    "    rep = 1\n",
    "    for numero in lista:\n",
    "        if lista.count(numero) >= rep:\n",
    "            rep = lista.count(numero)\n",
    "            moda = numero\n",
    "    \n",
    "    return moda, lista.count(moda)"
   ]
  },
  {
   "cell_type": "code",
   "execution_count": 8,
   "metadata": {},
   "outputs": [
    {
     "name": "stdout",
     "output_type": "stream",
     "text": [
      "La moda es: 6 Tiene una frecuencia de: 5\n"
     ]
    }
   ],
   "source": [
    "lista3 = [1,3,4,5,4,3,7,5,74,53,42,5,5,756,8,69,45,43,52,6,6,6,6,5,6]\n",
    "moda, frecuencia = moda_lista(lista3)\n",
    "print('La moda es:', moda, 'Tiene una frecuencia de:', frecuencia )"
   ]
  },
  {
   "cell_type": "markdown",
   "metadata": {},
   "source": [
    "4) A la función del punto 3, agregar un parámetro más, que permita elegir si se requiere el menor o el mayor de los mas repetidos."
   ]
  },
  {
   "cell_type": "code",
   "execution_count": 9,
   "metadata": {},
   "outputs": [],
   "source": [
    "def moda_mayor_menor (lista,mayor = True):\n",
    "    '''\n",
    "    Si hay mas de un valor modal, se mostrará el valor mayor por defecto.\n",
    "    Para mostrar el valor menor ingrese el parámetro 'mayor = False'\n",
    "    '''\n",
    "    escogido = None\n",
    "    rep = 1\n",
    "    for numero in lista:\n",
    "        if lista.count(numero) > rep:\n",
    "            rep = lista.count(numero)\n",
    "\n",
    "    mas_reps = []\n",
    "    for numero in lista:\n",
    "        if (lista.count(numero) == rep) and not(numero in mas_reps):\n",
    "            mas_reps.append(numero)\n",
    "\n",
    "    if len(mas_reps) <= 1:\n",
    "        moda = mas_reps[0]        \n",
    "    else:\n",
    "        print('Hay mas de un valor modal')\n",
    "        if mayor:\n",
    "            i = 1\n",
    "            num = mas_reps[i-1]\n",
    "            while i < len(mas_reps):\n",
    "                if mas_reps[i] > num:\n",
    "                    num = mas_reps[i]\n",
    "                i += 1   \n",
    "            moda = num\n",
    "            escogido = 'mayor'        \n",
    "        else :\n",
    "            i = 1\n",
    "            num = mas_reps[i-1]\n",
    "            while i < len(mas_reps):\n",
    "                if mas_reps[i] < num:\n",
    "                    num = mas_reps[i]\n",
    "                i += 1   \n",
    "            moda = num\n",
    "            escogido = 'menor'\n",
    "    return moda, lista.count(moda), escogido\n"
   ]
  },
  {
   "cell_type": "code",
   "execution_count": 10,
   "metadata": {},
   "outputs": [
    {
     "name": "stdout",
     "output_type": "stream",
     "text": [
      "Hay mas de un valor modal\n",
      "La moda es: 5 Tiene una frecuencia de: 5\n"
     ]
    }
   ],
   "source": [
    "lista4 = [1,3,4,5,4,3,7,5,74,53,42,5,5,756,8,69,45,43,52,6,6,6,6,5,6,9,9,9,9,9]\n",
    "moda, frecuencia, escogido = moda_mayor_menor(lista4,False)\n",
    "print('La moda es:', moda, 'Tiene una frecuencia de:', frecuencia )\n"
   ]
  },
  {
   "cell_type": "code",
   "execution_count": 11,
   "metadata": {},
   "outputs": [
    {
     "name": "stdout",
     "output_type": "stream",
     "text": [
      "Hay mas de un valor modal\n",
      "La moda es: 9 Tiene una frecuencia de: 5\n"
     ]
    }
   ],
   "source": [
    "lista4 = [1,3,4,5,4,3,7,5,74,53,42,5,5,756,8,69,45,43,52,6,6,6,6,5,6,9,9,9,9,9]\n",
    "moda, frecuencia, escogido = moda_mayor_menor(lista4)\n",
    "print('La moda es:', moda, 'Tiene una frecuencia de:', frecuencia )"
   ]
  },
  {
   "cell_type": "code",
   "execution_count": 12,
   "metadata": {},
   "outputs": [
    {
     "name": "stdout",
     "output_type": "stream",
     "text": [
      "La moda es: 9 Tiene una frecuencia de: 6\n"
     ]
    }
   ],
   "source": [
    "lista4 = [1,3,4,5,4,3,7,5,74,53,42,5,5,756,8,69,45,43,52,6,6,6,6,5,6,9,9,9,9,9,9]\n",
    "moda, frecuencia, escogido = moda_mayor_menor(lista4)\n",
    "print('La moda es:', moda, 'Tiene una frecuencia de:', frecuencia )"
   ]
  },
  {
   "cell_type": "markdown",
   "metadata": {},
   "source": [
    "5) Crear una función que convierta entre grados Celsius, Farenheit y Kelvin<br>\n",
    "Fórmula 1\t: (°C × 9/5) + 32 = °F<br>\n",
    "Fórmula 2\t: °C + 273.15 = °K<br>\n",
    "Debe recibir 3 parámetros: el valor, la medida de orígen y la medida de destino\n"
   ]
  },
  {
   "cell_type": "code",
   "execution_count": 13,
   "metadata": {},
   "outputs": [],
   "source": [
    "def convertir_temperatura(temperatura, grados_origen, grados_destino):\n",
    "    '''\n",
    "    Ingrese los siguientes valores en los parámetros para \n",
    "    indicar el tipo de sistema de medición de temperatura:\n",
    "\n",
    "    Celsius: 'C'\n",
    "    Farenheit: 'F' \n",
    "    Kelvin: 'K'\n",
    "    '''\n",
    "    conversion = None\n",
    "    \n",
    "    if (grados_origen == 'C'):\n",
    "\n",
    "        if (grados_destino == 'C'):\n",
    "            conversion = temperatura\n",
    "        elif (grados_destino == 'F'):\n",
    "            conversion = (temperatura * (9/5)) + 32\n",
    "        elif (grados_destino == 'K'):\n",
    "            conversion = temperatura + 273.15 \n",
    "        else:\n",
    "            print('Verifique valor ingresado en grados de destino')\n",
    "\n",
    "    elif (grados_origen == 'F'):\n",
    "        if (grados_destino == 'F'):\n",
    "            conversion = temperatura\n",
    "        elif (grados_destino == 'C'):\n",
    "            conversion = (temperatura - 32) * (5/9)\n",
    "        elif (grados_destino == 'K'):\n",
    "            c = (temperatura - 32) * (5/9)\n",
    "            conversion = c + 273.15\n",
    "        else:\n",
    "            print('Verifique valor ingresado en grados de destino')\n",
    "    \n",
    "    elif (grados_origen == 'K'):\n",
    "\n",
    "        if (grados_destino == 'K'):\n",
    "            conversion = temperatura\n",
    "        elif (grados_destino == 'C'):\n",
    "            conversion = temperatura - 273.15\n",
    "        elif (grados_destino == 'F'):\n",
    "            c = temperatura - 273.15\n",
    "            conversion = (c * (9/5)) + 32\n",
    "        else:\n",
    "            print('Verifique valor ingresado en grados de destino')\n",
    "    else:\n",
    "        print('Verifique valor ingresado en grados de origen')\n",
    "    return conversion\n"
   ]
  },
  {
   "cell_type": "code",
   "execution_count": 14,
   "metadata": {},
   "outputs": [
    {
     "data": {
      "text/plain": [
       "303.15"
      ]
     },
     "execution_count": 14,
     "metadata": {},
     "output_type": "execute_result"
    }
   ],
   "source": [
    "convertir_temperatura(30,'C','K')"
   ]
  },
  {
   "cell_type": "markdown",
   "metadata": {},
   "source": [
    "6) Iterando una lista con los tres valores posibles de temperatura que recibe la función del punto 5, hacer un print para cada combinación de los mismos:"
   ]
  },
  {
   "cell_type": "code",
   "execution_count": 15,
   "metadata": {},
   "outputs": [
    {
     "name": "stdout",
     "output_type": "stream",
     "text": [
      "30 grados C en grados C = 30\n",
      "30 grados C en grados F = 86.0\n",
      "30 grados C en grados K = 303.15\n",
      "30 grados F en grados C = -1.1111111111111112\n",
      "30 grados F en grados F = 30\n",
      "30 grados F en grados K = 272.0388888888889\n",
      "30 grados K en grados C = -243.14999999999998\n",
      "30 grados K en grados F = -405.66999999999996\n",
      "30 grados K en grados K = 30\n"
     ]
    }
   ],
   "source": [
    "sistemas = ['C','F','K']\n",
    "\n",
    "for origen in sistemas:\n",
    "    for destino in sistemas:\n",
    "        print(30, 'grados', origen, 'en grados', destino, '=', convertir_temperatura(30,origen,destino) )"
   ]
  },
  {
   "cell_type": "markdown",
   "metadata": {},
   "source": [
    "7) Armar una función que devuelva el factorial de un número. Tener en cuenta que el usuario puede equivocarse y enviar de parámetro un número no entero o negativo"
   ]
  },
  {
   "cell_type": "code",
   "execution_count": 16,
   "metadata": {},
   "outputs": [],
   "source": [
    "def factorial (numero):\n",
    "    '''\n",
    "    Devuelve el factorial\n",
    "    '''\n",
    "\n",
    "    if type(numero) != int: \n",
    "        return 'Verique que el valor ingresado es un entero'\n",
    "    if numero < 1:\n",
    "        return 'Verique que el valor ingresado es positivo'\n",
    "    \n",
    "    if numero > 2:\n",
    "        numero = numero * factorial(numero - 1)\n",
    "    return numero\n"
   ]
  },
  {
   "cell_type": "code",
   "execution_count": 17,
   "metadata": {},
   "outputs": [
    {
     "data": {
      "text/plain": [
       "120"
      ]
     },
     "execution_count": 17,
     "metadata": {},
     "output_type": "execute_result"
    }
   ],
   "source": [
    "factorial(5)"
   ]
  },
  {
   "cell_type": "code",
   "execution_count": 18,
   "metadata": {},
   "outputs": [
    {
     "data": {
      "text/plain": [
       "'Verique que el valor ingresado es positivo'"
      ]
     },
     "execution_count": 18,
     "metadata": {},
     "output_type": "execute_result"
    }
   ],
   "source": [
    "factorial(-3)"
   ]
  },
  {
   "cell_type": "code",
   "execution_count": 19,
   "metadata": {},
   "outputs": [
    {
     "data": {
      "text/plain": [
       "'Verique que el valor ingresado es un entero'"
      ]
     },
     "execution_count": 19,
     "metadata": {},
     "output_type": "execute_result"
    }
   ],
   "source": [
    "factorial(1.5)"
   ]
  },
  {
   "cell_type": "code",
   "execution_count": 20,
   "metadata": {},
   "outputs": [
    {
     "data": {
      "text/plain": [
       "'Verique que el valor ingresado es un entero'"
      ]
     },
     "execution_count": 20,
     "metadata": {},
     "output_type": "execute_result"
    }
   ],
   "source": [
    "factorial('10')"
   ]
  },
  {
   "cell_type": "code",
   "execution_count": null,
   "metadata": {},
   "outputs": [],
   "source": []
  }
 ],
 "metadata": {
  "interpreter": {
   "hash": "c85384e4cb51c8b72350f3a8712cc8351fdc3955e32a27f9b60c6242ab125f01"
  },
  "kernelspec": {
   "display_name": "Python 3 (ipykernel)",
   "language": "python",
   "name": "python3"
  },
  "language_info": {
   "codemirror_mode": {
    "name": "ipython",
    "version": 3
   },
   "file_extension": ".py",
   "mimetype": "text/x-python",
   "name": "python",
   "nbconvert_exporter": "python",
   "pygments_lexer": "ipython3",
   "version": "3.9.7"
  }
 },
 "nbformat": 4,
 "nbformat_minor": 4
}
