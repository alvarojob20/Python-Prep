{
 "cells": [
  {
   "cell_type": "markdown",
   "metadata": {},
   "source": [
    "## Manejo de errores"
   ]
  },
  {
   "cell_type": "markdown",
   "metadata": {},
   "source": [
    "1) Con la clase creada en el módulo 7, tener en cuenta diferentes casos en que el código pudiera arrojar error. Por ejemplo, en la creación del objeto recibimos una lista de números enteros pero ¿qué pasa si se envía otro tipo de dato?"
   ]
  },
  {
   "cell_type": "code",
   "execution_count": 1,
   "metadata": {},
   "outputs": [],
   "source": [
    "import sys \n",
    "sys.path.append(r'C:/Users/Alvaro/OneDrive/Escritorio/DATA ANALYTICS/Henry/Python-Prep/07 - Clases & OOP')"
   ]
  },
  {
   "cell_type": "code",
   "execution_count": 2,
   "metadata": {},
   "outputs": [],
   "source": [
    "import class_7 as ol1"
   ]
  },
  {
   "cell_type": "code",
   "execution_count": 3,
   "metadata": {},
   "outputs": [
    {
     "data": {
      "text/plain": [
       "class_7.operaciones_lista"
      ]
     },
     "execution_count": 3,
     "metadata": {},
     "output_type": "execute_result"
    }
   ],
   "source": [
    "num = ol1.operaciones_lista('1')\n",
    "type(num)"
   ]
  },
  {
   "cell_type": "markdown",
   "metadata": {},
   "source": [
    "2) En la función que hace la conversión de grados, validar que los parámetros enviados sean los esperados, de no serlo, informar cuáles son los valores esperados."
   ]
  },
  {
   "cell_type": "code",
   "execution_count": 4,
   "metadata": {},
   "outputs": [],
   "source": [
    "import class_8 as ol2"
   ]
  },
  {
   "cell_type": "code",
   "execution_count": 5,
   "metadata": {},
   "outputs": [
    {
     "data": {
      "text/plain": [
       "<class_8.operaciones_lista at 0x23fd4e957f0>"
      ]
     },
     "execution_count": 5,
     "metadata": {},
     "output_type": "execute_result"
    }
   ],
   "source": [
    "num2 = ol2.operaciones_lista([2,5,6,7,8,6,3,2,6,7,3,4,1,9,6,9,2,5])\n",
    "num2"
   ]
  },
  {
   "cell_type": "code",
   "execution_count": 6,
   "metadata": {},
   "outputs": [
    {
     "ename": "ValueError",
     "evalue": "Verifique valor ingresado en grados de origen. Valores esperados: 'C' 'F' 'K'",
     "output_type": "error",
     "traceback": [
      "\u001b[1;31m---------------------------------------------------------------------------\u001b[0m",
      "\u001b[1;31mValueError\u001b[0m                                Traceback (most recent call last)",
      "\u001b[1;32m~\\AppData\\Local\\Temp/ipykernel_14352/1385079028.py\u001b[0m in \u001b[0;36m<module>\u001b[1;34m\u001b[0m\n\u001b[1;32m----> 1\u001b[1;33m \u001b[0mnum2\u001b[0m\u001b[1;33m.\u001b[0m\u001b[0mconvertir_temperatura\u001b[0m\u001b[1;33m(\u001b[0m\u001b[1;36m1\u001b[0m\u001b[1;33m,\u001b[0m\u001b[1;36m2\u001b[0m\u001b[1;33m)\u001b[0m\u001b[1;33m\u001b[0m\u001b[1;33m\u001b[0m\u001b[0m\n\u001b[0m",
      "\u001b[1;32mc:\\Users\\Alvaro\\OneDrive\\Escritorio\\DATA ANALYTICS\\Henry\\Python-Prep\\08 - Error Handling\\class_8.py\u001b[0m in \u001b[0;36mconvertir_temperatura\u001b[1;34m(self, origen, destino)\u001b[0m\n\u001b[0;32m     29\u001b[0m \u001b[1;33m\u001b[0m\u001b[0m\n\u001b[0;32m     30\u001b[0m         \u001b[1;32mif\u001b[0m \u001b[0morigen\u001b[0m \u001b[1;32mnot\u001b[0m \u001b[1;32min\u001b[0m \u001b[0mvalores_esperados\u001b[0m\u001b[1;33m:\u001b[0m\u001b[1;33m\u001b[0m\u001b[1;33m\u001b[0m\u001b[0m\n\u001b[1;32m---> 31\u001b[1;33m             \u001b[1;32mraise\u001b[0m \u001b[0mValueError\u001b[0m\u001b[1;33m(\u001b[0m\u001b[1;34m\"Verifique valor ingresado en grados de origen. Valores esperados: 'C' 'F' 'K'\"\u001b[0m\u001b[1;33m)\u001b[0m\u001b[1;33m\u001b[0m\u001b[1;33m\u001b[0m\u001b[0m\n\u001b[0m\u001b[0;32m     32\u001b[0m         \u001b[1;32melif\u001b[0m \u001b[0mdestino\u001b[0m \u001b[1;32mnot\u001b[0m \u001b[1;32min\u001b[0m \u001b[0mvalores_esperados\u001b[0m\u001b[1;33m:\u001b[0m\u001b[1;33m\u001b[0m\u001b[1;33m\u001b[0m\u001b[0m\n\u001b[0;32m     33\u001b[0m             \u001b[1;32mraise\u001b[0m \u001b[0mValueError\u001b[0m\u001b[1;33m(\u001b[0m\u001b[1;34m\"Verifique valor ingresado en grados de destino. Valores esperados: 'C' 'F' 'K'\"\u001b[0m\u001b[1;33m)\u001b[0m\u001b[1;33m\u001b[0m\u001b[1;33m\u001b[0m\u001b[0m\n",
      "\u001b[1;31mValueError\u001b[0m: Verifique valor ingresado en grados de origen. Valores esperados: 'C' 'F' 'K'"
     ]
    }
   ],
   "source": [
    "num2.convertir_temperatura(1,2)"
   ]
  },
  {
   "cell_type": "code",
   "execution_count": 7,
   "metadata": {},
   "outputs": [
    {
     "ename": "ValueError",
     "evalue": "Verifique valor ingresado en grados de destino. Valores esperados: 'C' 'F' 'K'",
     "output_type": "error",
     "traceback": [
      "\u001b[1;31m---------------------------------------------------------------------------\u001b[0m",
      "\u001b[1;31mValueError\u001b[0m                                Traceback (most recent call last)",
      "\u001b[1;32m~\\AppData\\Local\\Temp/ipykernel_14352/1709795569.py\u001b[0m in \u001b[0;36m<module>\u001b[1;34m\u001b[0m\n\u001b[1;32m----> 1\u001b[1;33m \u001b[0mnum2\u001b[0m\u001b[1;33m.\u001b[0m\u001b[0mconvertir_temperatura\u001b[0m\u001b[1;33m(\u001b[0m\u001b[1;34m'C'\u001b[0m\u001b[1;33m,\u001b[0m\u001b[1;36m2\u001b[0m\u001b[1;33m)\u001b[0m\u001b[1;33m\u001b[0m\u001b[1;33m\u001b[0m\u001b[0m\n\u001b[0m",
      "\u001b[1;32mc:\\Users\\Alvaro\\OneDrive\\Escritorio\\DATA ANALYTICS\\Henry\\Python-Prep\\08 - Error Handling\\class_8.py\u001b[0m in \u001b[0;36mconvertir_temperatura\u001b[1;34m(self, origen, destino)\u001b[0m\n\u001b[0;32m     31\u001b[0m             \u001b[1;32mraise\u001b[0m \u001b[0mValueError\u001b[0m\u001b[1;33m(\u001b[0m\u001b[1;34m\"Verifique valor ingresado en grados de origen. Valores esperados: 'C' 'F' 'K'\"\u001b[0m\u001b[1;33m)\u001b[0m\u001b[1;33m\u001b[0m\u001b[1;33m\u001b[0m\u001b[0m\n\u001b[0;32m     32\u001b[0m         \u001b[1;32melif\u001b[0m \u001b[0mdestino\u001b[0m \u001b[1;32mnot\u001b[0m \u001b[1;32min\u001b[0m \u001b[0mvalores_esperados\u001b[0m\u001b[1;33m:\u001b[0m\u001b[1;33m\u001b[0m\u001b[1;33m\u001b[0m\u001b[0m\n\u001b[1;32m---> 33\u001b[1;33m             \u001b[1;32mraise\u001b[0m \u001b[0mValueError\u001b[0m\u001b[1;33m(\u001b[0m\u001b[1;34m\"Verifique valor ingresado en grados de destino. Valores esperados: 'C' 'F' 'K'\"\u001b[0m\u001b[1;33m)\u001b[0m\u001b[1;33m\u001b[0m\u001b[1;33m\u001b[0m\u001b[0m\n\u001b[0m\u001b[0;32m     34\u001b[0m         \u001b[1;32melse\u001b[0m\u001b[1;33m:\u001b[0m\u001b[1;33m\u001b[0m\u001b[1;33m\u001b[0m\u001b[0m\n\u001b[0;32m     35\u001b[0m             \u001b[1;32mfor\u001b[0m \u001b[0mtemperatura\u001b[0m \u001b[1;32min\u001b[0m \u001b[0mself\u001b[0m\u001b[1;33m.\u001b[0m\u001b[0mlista\u001b[0m\u001b[1;33m:\u001b[0m\u001b[1;33m\u001b[0m\u001b[1;33m\u001b[0m\u001b[0m\n",
      "\u001b[1;31mValueError\u001b[0m: Verifique valor ingresado en grados de destino. Valores esperados: 'C' 'F' 'K'"
     ]
    }
   ],
   "source": [
    "num2.convertir_temperatura('C',2)"
   ]
  },
  {
   "cell_type": "code",
   "execution_count": 8,
   "metadata": {},
   "outputs": [
    {
     "data": {
      "text/plain": [
       "[35.6,\n",
       " 41.0,\n",
       " 42.8,\n",
       " 44.6,\n",
       " 46.4,\n",
       " 42.8,\n",
       " 37.4,\n",
       " 35.6,\n",
       " 42.8,\n",
       " 44.6,\n",
       " 37.4,\n",
       " 39.2,\n",
       " 33.8,\n",
       " 48.2,\n",
       " 42.8,\n",
       " 48.2,\n",
       " 35.6,\n",
       " 41.0]"
      ]
     },
     "execution_count": 8,
     "metadata": {},
     "output_type": "execute_result"
    }
   ],
   "source": [
    "num2.convertir_temperatura('C','F')"
   ]
  },
  {
   "cell_type": "markdown",
   "metadata": {},
   "source": [
    "3) Importar el modulo \"unittest\" y crear los siguientes casos de pruebas sobre la clase utilizada en el punto 2<br>\n",
    "Creacion del objeto incorrecta<br>\n",
    "Creacion correcta del objeto<br>\n",
    "Metodo valor_modal()<br>\n",
    "\n",
    "Se puede usar \"raise ValueError()\" en la creación de la clase para verificar el error. Investigar sobre esta funcionalidad."
   ]
  },
  {
   "cell_type": "code",
   "execution_count": 9,
   "metadata": {},
   "outputs": [],
   "source": [
    "import unittest"
   ]
  },
  {
   "cell_type": "code",
   "execution_count": 10,
   "metadata": {},
   "outputs": [],
   "source": [
    "class Test_Class_8(unittest.TestCase):\n",
    "\n",
    "    def test_crear_objeto_incorrecto(self):\n",
    "        parametro = 'alvaro'\n",
    "        self.assertRaises(ValueError,ol2.operaciones_lista,parametro)\n",
    "        \n",
    "    def test_crear_objeto_correcto(self):\n",
    "        parametro = [1,2,3,4,5,3,4,2,4,3,7,8,9,6,8,6]\n",
    "        num3 = ol2.operaciones_lista(parametro)\n",
    "        self.assertEqual(num3.lista,parametro)\n",
    "\n",
    "    def test_moda_mayor_menor(self):\n",
    "        lista = [1,3,4,5,3,2,3]\n",
    "        num3 = ol2.operaciones_lista(lista)\n",
    "        moda, frecuencia = num3.moda_mayor_menor()\n",
    "        resultado = [moda]\n",
    "        resultado.append(frecuencia)\n",
    "        resultado_esperado = [3,3]\n",
    "        self.assertEqual(resultado_esperado,resultado)\n"
   ]
  },
  {
   "cell_type": "code",
   "execution_count": 11,
   "metadata": {},
   "outputs": [
    {
     "name": "stderr",
     "output_type": "stream",
     "text": [
      "test_crear_objeto_correcto (__main__.Test_Class_8) ... ok\n",
      "test_crear_objeto_incorrecto (__main__.Test_Class_8) ... ok\n",
      "test_moda_mayor_menor (__main__.Test_Class_8) ... ok\n",
      "\n",
      "----------------------------------------------------------------------\n",
      "Ran 3 tests in 0.007s\n",
      "\n",
      "OK\n"
     ]
    },
    {
     "data": {
      "text/plain": [
       "<unittest.main.TestProgram at 0x23fd5bc4970>"
      ]
     },
     "execution_count": 11,
     "metadata": {},
     "output_type": "execute_result"
    }
   ],
   "source": [
    "unittest.main(argv=[''], verbosity=2, exit=False)"
   ]
  },
  {
   "cell_type": "markdown",
   "metadata": {},
   "source": [
    "4) Probar una creación incorrecta y visualizar la salida del \"raise\""
   ]
  },
  {
   "cell_type": "code",
   "execution_count": 12,
   "metadata": {},
   "outputs": [
    {
     "ename": "ValueError",
     "evalue": "Se ha ingresado un parametro incorrecto. Se esperaba una lista de núemeros enteros",
     "output_type": "error",
     "traceback": [
      "\u001b[1;31m---------------------------------------------------------------------------\u001b[0m",
      "\u001b[1;31mValueError\u001b[0m                                Traceback (most recent call last)",
      "\u001b[1;32m~\\AppData\\Local\\Temp/ipykernel_14352/4229868955.py\u001b[0m in \u001b[0;36m<module>\u001b[1;34m\u001b[0m\n\u001b[1;32m----> 1\u001b[1;33m \u001b[0mnum4\u001b[0m \u001b[1;33m=\u001b[0m \u001b[0mol2\u001b[0m\u001b[1;33m.\u001b[0m\u001b[0moperaciones_lista\u001b[0m\u001b[1;33m(\u001b[0m\u001b[1;34m'alvaro'\u001b[0m\u001b[1;33m)\u001b[0m\u001b[1;33m\u001b[0m\u001b[1;33m\u001b[0m\u001b[0m\n\u001b[0m",
      "\u001b[1;32mc:\\Users\\Alvaro\\OneDrive\\Escritorio\\DATA ANALYTICS\\Henry\\Python-Prep\\08 - Error Handling\\class_8.py\u001b[0m in \u001b[0;36m__init__\u001b[1;34m(self, lista)\u001b[0m\n\u001b[0;32m      3\u001b[0m         \u001b[1;32mif\u001b[0m \u001b[1;33m(\u001b[0m\u001b[0mtype\u001b[0m\u001b[1;33m(\u001b[0m\u001b[0mlista\u001b[0m\u001b[1;33m)\u001b[0m \u001b[1;33m!=\u001b[0m \u001b[0mlist\u001b[0m\u001b[1;33m)\u001b[0m\u001b[1;33m:\u001b[0m\u001b[1;33m\u001b[0m\u001b[1;33m\u001b[0m\u001b[0m\n\u001b[0;32m      4\u001b[0m             \u001b[0mself\u001b[0m\u001b[1;33m.\u001b[0m\u001b[0mlista\u001b[0m \u001b[1;33m=\u001b[0m \u001b[1;33m[\u001b[0m\u001b[1;33m]\u001b[0m\u001b[1;33m\u001b[0m\u001b[1;33m\u001b[0m\u001b[0m\n\u001b[1;32m----> 5\u001b[1;33m             \u001b[1;32mraise\u001b[0m \u001b[0mValueError\u001b[0m\u001b[1;33m(\u001b[0m\u001b[1;34m'Se ha ingresado un parametro incorrecto. Se esperaba una lista de núemeros enteros'\u001b[0m\u001b[1;33m)\u001b[0m\u001b[1;33m\u001b[0m\u001b[1;33m\u001b[0m\u001b[0m\n\u001b[0m\u001b[0;32m      6\u001b[0m         \u001b[1;32melse\u001b[0m\u001b[1;33m:\u001b[0m\u001b[1;33m\u001b[0m\u001b[1;33m\u001b[0m\u001b[0m\n\u001b[0;32m      7\u001b[0m             \u001b[0mself\u001b[0m\u001b[1;33m.\u001b[0m\u001b[0mlista\u001b[0m \u001b[1;33m=\u001b[0m \u001b[0mlista\u001b[0m\u001b[1;33m\u001b[0m\u001b[1;33m\u001b[0m\u001b[0m\n",
      "\u001b[1;31mValueError\u001b[0m: Se ha ingresado un parametro incorrecto. Se esperaba una lista de núemeros enteros"
     ]
    }
   ],
   "source": [
    "num4 = ol2.operaciones_lista('alvaro')"
   ]
  },
  {
   "cell_type": "markdown",
   "metadata": {},
   "source": [
    "6) Agregar casos de pruebas para el método verifica_primos() realizando el cambio en la clase, para que devuelva una lista de True o False en función de que el elemento en la posisicón sea o no primo"
   ]
  },
  {
   "cell_type": "code",
   "execution_count": 13,
   "metadata": {},
   "outputs": [
    {
     "data": {
      "text/plain": [
       "<module 'class_8' from 'c:\\\\Users\\\\Alvaro\\\\OneDrive\\\\Escritorio\\\\DATA ANALYTICS\\\\Henry\\\\Python-Prep\\\\08 - Error Handling\\\\class_8.py'>"
      ]
     },
     "execution_count": 13,
     "metadata": {},
     "output_type": "execute_result"
    }
   ],
   "source": [
    "import importlib\n",
    "importlib.reload(ol2)"
   ]
  },
  {
   "cell_type": "code",
   "execution_count": 14,
   "metadata": {},
   "outputs": [],
   "source": [
    "class Test_es_primo(unittest.TestCase):\n",
    "\n",
    "    def test_es_primo(self):\n",
    "        lista = [2,3,5,6,7,8,9,10]\n",
    "        num6 = ol2.operaciones_lista(lista)\n",
    "        resultado = num6.es_primo()\n",
    "        self.assertEqual(resultado, [True,True,True,False,True,False,False,False])"
   ]
  },
  {
   "cell_type": "code",
   "execution_count": 15,
   "metadata": {},
   "outputs": [
    {
     "name": "stderr",
     "output_type": "stream",
     "text": [
      "test_crear_objeto_correcto (__main__.Test_Class_8) ... ok\n",
      "test_crear_objeto_incorrecto (__main__.Test_Class_8) ... ok\n",
      "test_moda_mayor_menor (__main__.Test_Class_8) ... ok\n",
      "test_es_primo (__main__.Test_es_primo) ... ok\n",
      "\n",
      "----------------------------------------------------------------------\n",
      "Ran 4 tests in 0.012s\n",
      "\n",
      "OK\n"
     ]
    },
    {
     "data": {
      "text/plain": [
       "<unittest.main.TestProgram at 0x23fd5bd7ee0>"
      ]
     },
     "execution_count": 15,
     "metadata": {},
     "output_type": "execute_result"
    }
   ],
   "source": [
    "unittest.main(argv=[''], verbosity=2, exit=False)"
   ]
  },
  {
   "cell_type": "markdown",
   "metadata": {},
   "source": [
    "7) Agregar casos de pruebas para el método conversion_grados()"
   ]
  },
  {
   "cell_type": "code",
   "execution_count": 16,
   "metadata": {},
   "outputs": [
    {
     "data": {
      "text/plain": [
       "<module 'class_8' from 'c:\\\\Users\\\\Alvaro\\\\OneDrive\\\\Escritorio\\\\DATA ANALYTICS\\\\Henry\\\\Python-Prep\\\\08 - Error Handling\\\\class_8.py'>"
      ]
     },
     "execution_count": 16,
     "metadata": {},
     "output_type": "execute_result"
    }
   ],
   "source": [
    "importlib.reload(ol2)"
   ]
  },
  {
   "cell_type": "code",
   "execution_count": 17,
   "metadata": {},
   "outputs": [],
   "source": [
    "class Test_convertir_temperatura(unittest.TestCase):\n",
    "\n",
    "    def test_convertir_temperatura(self):\n",
    "        lista = [0,30,50,100]\n",
    "        num7 = ol2.operaciones_lista(lista)\n",
    "        resultado = num7.convertir_temperatura('C','F')\n",
    "        self.assertEqual(resultado, [32,86,122,212])"
   ]
  },
  {
   "cell_type": "code",
   "execution_count": 18,
   "metadata": {},
   "outputs": [
    {
     "name": "stderr",
     "output_type": "stream",
     "text": [
      "test_crear_objeto_correcto (__main__.Test_Class_8) ... ok\n",
      "test_crear_objeto_incorrecto (__main__.Test_Class_8) ... ok\n",
      "test_moda_mayor_menor (__main__.Test_Class_8) ... ok\n",
      "test_convertir_temperatura (__main__.Test_convertir_temperatura) ... ok\n",
      "test_es_primo (__main__.Test_es_primo) ... ok\n",
      "\n",
      "----------------------------------------------------------------------\n",
      "Ran 5 tests in 0.015s\n",
      "\n",
      "OK\n"
     ]
    },
    {
     "data": {
      "text/plain": [
       "<unittest.main.TestProgram at 0x23fd5bbbd30>"
      ]
     },
     "execution_count": 18,
     "metadata": {},
     "output_type": "execute_result"
    }
   ],
   "source": [
    "unittest.main(argv=[''], verbosity= 2, exit=False)"
   ]
  },
  {
   "cell_type": "markdown",
   "metadata": {},
   "source": [
    "8) Agregar casos de pruebas para el método factorial()"
   ]
  },
  {
   "cell_type": "code",
   "execution_count": 19,
   "metadata": {},
   "outputs": [
    {
     "data": {
      "text/plain": [
       "<module 'class_8' from 'c:\\\\Users\\\\Alvaro\\\\OneDrive\\\\Escritorio\\\\DATA ANALYTICS\\\\Henry\\\\Python-Prep\\\\08 - Error Handling\\\\class_8.py'>"
      ]
     },
     "execution_count": 19,
     "metadata": {},
     "output_type": "execute_result"
    }
   ],
   "source": [
    "importlib.reload(ol2)"
   ]
  },
  {
   "cell_type": "code",
   "execution_count": 20,
   "metadata": {},
   "outputs": [],
   "source": [
    "class Test_factorial(unittest.TestCase):\n",
    "\n",
    "    def test_factorial(self):\n",
    "        lista = [1,2,3,4,5,6,7,8,9,10]\n",
    "        num8 = ol2.operaciones_lista(lista)\n",
    "        resultado = num8.factorial()\n",
    "        self.assertEqual(resultado,[1,2,6,24,120,720,5040,40320,362880,3628800])"
   ]
  },
  {
   "cell_type": "code",
   "execution_count": 21,
   "metadata": {},
   "outputs": [
    {
     "name": "stderr",
     "output_type": "stream",
     "text": [
      "test_crear_objeto_correcto (__main__.Test_Class_8) ... ok\n",
      "test_crear_objeto_incorrecto (__main__.Test_Class_8) ... ok\n",
      "test_moda_mayor_menor (__main__.Test_Class_8) ... ok\n",
      "test_convertir_temperatura (__main__.Test_convertir_temperatura) ... ok\n",
      "test_es_primo (__main__.Test_es_primo) ... ok\n",
      "test_factorial (__main__.Test_factorial) ... ok\n",
      "\n",
      "----------------------------------------------------------------------\n",
      "Ran 6 tests in 0.017s\n",
      "\n",
      "OK\n"
     ]
    },
    {
     "data": {
      "text/plain": [
       "<unittest.main.TestProgram at 0x23fd5be4820>"
      ]
     },
     "execution_count": 21,
     "metadata": {},
     "output_type": "execute_result"
    }
   ],
   "source": [
    "unittest.main(argv=[''], verbosity=2, exit=False)"
   ]
  },
  {
   "attachments": {},
   "cell_type": "markdown",
   "metadata": {},
   "source": [
    "9. Completar el código en las funciones del archivo \"checkpoint.py\" y probarlo a partir de la ejecución del script \"tests.py\""
   ]
  },
  {
   "cell_type": "code",
   "execution_count": 61,
   "metadata": {},
   "outputs": [],
   "source": [
    "import tests\n",
    "import checkpoint"
   ]
  },
  {
   "cell_type": "code",
   "execution_count": 62,
   "metadata": {},
   "outputs": [
    {
     "data": {
      "text/plain": [
       "<module 'checkpoint' from 'c:\\\\Users\\\\Alvaro\\\\OneDrive\\\\Escritorio\\\\DATA ANALYTICS\\\\Henry\\\\Python-Prep\\\\08 - Error Handling\\\\checkpoint.py'>"
      ]
     },
     "execution_count": 62,
     "metadata": {},
     "output_type": "execute_result"
    }
   ],
   "source": [
    "importlib.reload(checkpoint)"
   ]
  },
  {
   "cell_type": "code",
   "execution_count": 63,
   "metadata": {},
   "outputs": [
    {
     "name": "stderr",
     "output_type": "stream",
     "text": [
      "test_crear_objeto_correcto (__main__.Test_Class_8) ... ok\n",
      "test_crear_objeto_incorrecto (__main__.Test_Class_8) ... ok\n",
      "test_moda_mayor_menor (__main__.Test_Class_8) ... ok\n",
      "test_convertir_temperatura (__main__.Test_convertir_temperatura) ... ok\n",
      "test_es_primo (__main__.Test_es_primo) ... ok\n",
      "test_factorial (__main__.Test_factorial) ... ok\n",
      "test_ClaseAnimal_01 (tests.PruebaHenryChallenge) ... ok\n",
      "test_ClaseAnimal_02 (tests.PruebaHenryChallenge) ... ok\n",
      "test_ClaseAnimal_03 (tests.PruebaHenryChallenge) ... ok\n",
      "test_EsPrimo_01 (tests.PruebaHenryChallenge) ... ok\n",
      "test_EsPrimo_02 (tests.PruebaHenryChallenge) ... ok\n",
      "test_EsPrimo_03 (tests.PruebaHenryChallenge) ... ok\n",
      "test_Factorial_01 (tests.PruebaHenryChallenge) ... ok\n",
      "test_Factorial_02 (tests.PruebaHenryChallenge) ... ok\n",
      "test_Factorial_03 (tests.PruebaHenryChallenge) ... "
     ]
    },
    {
     "name": "stdout",
     "output_type": "stream",
     "text": [
      "Resumen\n",
      "Total Tests: 15\n",
      "Total Fallas: 0\n",
      "Total Errores: 0\n",
      "Total Correctos: 15\n"
     ]
    },
    {
     "name": "stderr",
     "output_type": "stream",
     "text": [
      "ok\n",
      "\n",
      "----------------------------------------------------------------------\n",
      "Ran 15 tests in 0.026s\n",
      "\n",
      "OK\n"
     ]
    },
    {
     "data": {
      "text/plain": [
       "<module 'tests' from 'c:\\\\Users\\\\Alvaro\\\\OneDrive\\\\Escritorio\\\\DATA ANALYTICS\\\\Henry\\\\Python-Prep\\\\08 - Error Handling\\\\tests.py'>"
      ]
     },
     "execution_count": 63,
     "metadata": {},
     "output_type": "execute_result"
    }
   ],
   "source": [
    "importlib.reload(tests)"
   ]
  },
  {
   "cell_type": "code",
   "execution_count": null,
   "metadata": {},
   "outputs": [],
   "source": []
  }
 ],
 "metadata": {
  "interpreter": {
   "hash": "c85384e4cb51c8b72350f3a8712cc8351fdc3955e32a27f9b60c6242ab125f01"
  },
  "kernelspec": {
   "display_name": "Python 3 (ipykernel)",
   "language": "python",
   "name": "python3"
  },
  "language_info": {
   "codemirror_mode": {
    "name": "ipython",
    "version": 3
   },
   "file_extension": ".py",
   "mimetype": "text/x-python",
   "name": "python",
   "nbconvert_exporter": "python",
   "pygments_lexer": "ipython3",
   "version": "3.9.7"
  }
 },
 "nbformat": 4,
 "nbformat_minor": 4
}
