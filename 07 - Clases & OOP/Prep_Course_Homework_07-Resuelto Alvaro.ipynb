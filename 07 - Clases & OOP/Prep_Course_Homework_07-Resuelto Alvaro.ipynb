{
 "cells": [
  {
   "cell_type": "markdown",
   "metadata": {},
   "source": [
    "## Clases y Programación Orientada a Objetos"
   ]
  },
  {
   "cell_type": "markdown",
   "metadata": {},
   "source": [
    "1) Crear la clase vehículo que contenga los atributos:<br>\n",
    "Color<br>\n",
    "Si es moto, auto, camioneta ó camión<br>\n",
    "Cilindrada del motor"
   ]
  },
  {
   "cell_type": "code",
   "execution_count": 1,
   "metadata": {},
   "outputs": [],
   "source": [
    "class vehiculo:\n",
    "    def __init__ (self, color, tipo, cilindraje):\n",
    "        self.color = color\n",
    "        self.tipo_de_vehiculo = tipo\n",
    "        self.cilindraje = cilindraje"
   ]
  },
  {
   "cell_type": "markdown",
   "metadata": {},
   "source": [
    "2) A la clase Vehiculo creada en el punto 1, agregar los siguientes métodos:<br>\n",
    "Acelerar<br>\n",
    "Frenar<br>\n",
    "Doblar<br>"
   ]
  },
  {
   "cell_type": "code",
   "execution_count": 5,
   "metadata": {},
   "outputs": [],
   "source": [
    "class vehiculo:\n",
    "    def __init__(self, color, tipo, cilindraje, velocidad, direccion):\n",
    "        self.color = color\n",
    "        self.tipo = tipo\n",
    "        self.cilindraje = cilindraje\n",
    "        self.velocidad = velocidad\n",
    "        self.direccion = direccion\n",
    "    \n",
    "    def Acelerar(self, vel):\n",
    "        self.velocidad += vel\n",
    "    \n",
    "    def Frenar(self, vel):\n",
    "        self.velocidad -= vel\n",
    "    \n",
    "    def Doblar(self, grados):\n",
    "        self.direccion += grados      "
   ]
  },
  {
   "cell_type": "markdown",
   "metadata": {},
   "source": [
    "3) Instanciar 3 objetos de la clase vehículo y ejecutar sus métodos, probar luego el resultado"
   ]
  },
  {
   "cell_type": "code",
   "execution_count": 6,
   "metadata": {},
   "outputs": [],
   "source": [
    "v1 = vehiculo('azul','moto',2000,80,60)\n",
    "v2 = vehiculo('negro','carro',1500,100,25)\n",
    "v3 = vehiculo('blanco','camion',3000,90,15)"
   ]
  },
  {
   "cell_type": "code",
   "execution_count": 7,
   "metadata": {},
   "outputs": [],
   "source": [
    "v1.Acelerar(50)\n",
    "v1.Frenar(10)\n",
    "v1.Doblar(10)\n",
    "\n",
    "v2.Acelerar(20)\n",
    "v2.Frenar(60)\n",
    "v2.Doblar(10)\n",
    "\n",
    "v3.Acelerar(40)\n",
    "v3.Frenar(20)\n",
    "v3.Doblar(40)"
   ]
  },
  {
   "cell_type": "markdown",
   "metadata": {},
   "source": [
    "4) Agregar a la clase Vehiculo, un método que muestre su estado, es decir, a que velocidad se encuentra y su dirección. Y otro método que muestre color, tipo y cilindrada"
   ]
  },
  {
   "cell_type": "code",
   "execution_count": 18,
   "metadata": {},
   "outputs": [],
   "source": [
    "class vehiculo:\n",
    "    def __init__(self, color, tipo, cilindraje, velocidad, direccion):\n",
    "        self.color = color\n",
    "        self.tipo = tipo\n",
    "        self.cilindraje = cilindraje\n",
    "        self.velocidad = velocidad\n",
    "        self.direccion = direccion\n",
    "    \n",
    "    def Acelerar(self, vel):\n",
    "        self.velocidad += vel\n",
    "    \n",
    "    def Frenar(self, vel):\n",
    "        self.velocidad -= vel\n",
    "    \n",
    "    def Doblar(self, grados):\n",
    "        self.direccion += grados      \n",
    "    \n",
    "    def Estado(self):\n",
    "        self.velocidad\n",
    "        self.direccion\n",
    "        print('Velocidad:', self.velocidad,'Direccion:', self.direccion)\n",
    "    \n",
    "    def Especificaciones(self):\n",
    "        self.color\n",
    "        self.tipo\n",
    "        self.cilindraje\n",
    "        print('Vehiculo de color:', self.color, '- Tipo de vehiculo:', self.tipo, '- Cilindraje:', self.cilindraje)"
   ]
  },
  {
   "cell_type": "code",
   "execution_count": 21,
   "metadata": {},
   "outputs": [],
   "source": [
    "v1 = vehiculo('azul','moto',2000,80,60)\n",
    "v2 = vehiculo('negro','carro',1500,100,25)\n",
    "v3 = vehiculo('blanco','camion',3000,90,15)"
   ]
  },
  {
   "cell_type": "code",
   "execution_count": 22,
   "metadata": {},
   "outputs": [],
   "source": [
    "v1.Acelerar(50)\n",
    "v1.Frenar(10)\n",
    "v1.Doblar(10)\n",
    "\n",
    "v2.Acelerar(20)\n",
    "v2.Frenar(60)\n",
    "v2.Doblar(10)\n",
    "\n",
    "v3.Acelerar(40)\n",
    "v3.Frenar(20)\n",
    "v3.Doblar(40)"
   ]
  },
  {
   "cell_type": "code",
   "execution_count": 23,
   "metadata": {},
   "outputs": [
    {
     "name": "stdout",
     "output_type": "stream",
     "text": [
      "Velocidad: 120 Direccion: 70\n",
      "Vehiculo de color: azul - Tipo de vehiculo: moto - Cilindraje: 2000\n"
     ]
    }
   ],
   "source": [
    "v1.Estado()\n",
    "v1.Especificaciones()"
   ]
  },
  {
   "cell_type": "code",
   "execution_count": 24,
   "metadata": {},
   "outputs": [
    {
     "name": "stdout",
     "output_type": "stream",
     "text": [
      "Velocidad: 60 Direccion: 35\n",
      "Vehiculo de color: negro - Tipo de vehiculo: carro - Cilindraje: 1500\n"
     ]
    }
   ],
   "source": [
    "v2.Estado()\n",
    "v2.Especificaciones()"
   ]
  },
  {
   "cell_type": "code",
   "execution_count": 25,
   "metadata": {},
   "outputs": [
    {
     "name": "stdout",
     "output_type": "stream",
     "text": [
      "Velocidad: 110 Direccion: 55\n",
      "Vehiculo de color: blanco - Tipo de vehiculo: camion - Cilindraje: 3000\n"
     ]
    }
   ],
   "source": [
    "v3.Estado()\n",
    "v3.Especificaciones()"
   ]
  },
  {
   "cell_type": "markdown",
   "metadata": {},
   "source": [
    "5) Crear una clase que permita utilizar las funciones creadas en la práctica del módulo 6<br>\n",
    "Verificar Primo<br>\n",
    "Valor modal<br>\n",
    "Conversión grados<br>\n",
    "Factorial<br>"
   ]
  },
  {
   "cell_type": "code",
   "execution_count": 47,
   "metadata": {},
   "outputs": [],
   "source": [
    "class operaciones:\n",
    "    def __init__(self) -> None:\n",
    "        pass\n",
    "    \n",
    "    def es_primo (self, numero):\n",
    "        \n",
    "        primo = True\n",
    "        if numero > 1 :\n",
    "            i = 1\n",
    "            while numero - i > 1:        \n",
    "                if numero % (numero - i) == 0 :\n",
    "                    primo = False\n",
    "                    break\n",
    "                i += 1\n",
    "        else:\n",
    "            primo = False\n",
    "        return primo\n",
    "    \n",
    "    def moda_mayor_menor (self,lista,mayor = True):\n",
    "        '''\n",
    "        Si hay mas de un valor modal, se mostrará el valor mayor por defecto.\n",
    "        Para mostrar el valor menor ingrese el parámetro 'mayor = False'\n",
    "        '''\n",
    "\n",
    "        rep = 1\n",
    "        for numero in lista:\n",
    "            if lista.count(numero) > rep:\n",
    "                rep = lista.count(numero)\n",
    "\n",
    "        mas_reps = []\n",
    "        for numero in lista:\n",
    "            if (lista.count(numero) == rep) and not(numero in mas_reps):\n",
    "                mas_reps.append(numero)\n",
    "\n",
    "        if len(mas_reps) <= 1:\n",
    "            moda = mas_reps[0]        \n",
    "        else:\n",
    "            print('Hay mas de un valor modal')\n",
    "            if mayor:\n",
    "                i = 1\n",
    "                num = mas_reps[i-1]\n",
    "                while i < len(mas_reps):\n",
    "                    if mas_reps[i] > num:\n",
    "                        num = mas_reps[i]\n",
    "                    i += 1   \n",
    "                moda = num    \n",
    "            else :\n",
    "                i = 1\n",
    "                num = mas_reps[i-1]\n",
    "                while i < len(mas_reps):\n",
    "                    if mas_reps[i] < num:\n",
    "                        num = mas_reps[i]\n",
    "                    i += 1   \n",
    "                moda = num\n",
    "        return moda, lista.count(moda)\n",
    "    \n",
    "    def convertir_temperatura(self,temperatura, grados_origen, grados_destino):\n",
    "        '''\n",
    "        Ingrese los siguientes valores en los parámetros para \n",
    "        indicar el tipo de sistema de medición de temperatura:\n",
    "\n",
    "        Celsius: 'C'\n",
    "        Farenheit: 'F' \n",
    "        Kelvin: 'K'\n",
    "        '''\n",
    "\n",
    "        conversion = None\n",
    "        \n",
    "        if (grados_origen == 'C'):\n",
    "\n",
    "            if (grados_destino == 'C'):\n",
    "                conversion = temperatura\n",
    "            elif (grados_destino == 'F'):\n",
    "                conversion = (temperatura * (9/5)) + 32\n",
    "            elif (grados_destino == 'K'):\n",
    "                conversion = temperatura + 273.15 \n",
    "            else:\n",
    "                print('Verifique valor ingresado en grados de destino')\n",
    "\n",
    "        elif (grados_origen == 'F'):\n",
    "            if (grados_destino == 'F'):\n",
    "                conversion = temperatura\n",
    "            elif (grados_destino == 'C'):\n",
    "                conversion = (temperatura - 32) * (5/9)\n",
    "            elif (grados_destino == 'K'):\n",
    "                c = (temperatura - 32) * (5/9)\n",
    "                conversion = c + 273.15\n",
    "            else:\n",
    "                print('Verifique valor ingresado en grados de destino')\n",
    "        \n",
    "        elif (grados_origen == 'K'):\n",
    "\n",
    "            if (grados_destino == 'K'):\n",
    "                conversion = temperatura\n",
    "            elif (grados_destino == 'C'):\n",
    "                conversion = temperatura - 273.15\n",
    "            elif (grados_destino == 'F'):\n",
    "                c = temperatura - 273.15\n",
    "                conversion = (c * (9/5)) + 32\n",
    "            else:\n",
    "                print('Verifique valor ingresado en grados de destino')\n",
    "        else:\n",
    "            print('Verifique valor ingresado en grados de origen')\n",
    "        return conversion\n",
    "    \n",
    "    def factorial (self,numero):\n",
    "        '''\n",
    "        Devuelve el factorial\n",
    "        '''\n",
    "\n",
    "        if type(numero) != int: \n",
    "            return 'Verique que el valor ingresado es un entero'\n",
    "        if numero < 1:\n",
    "            return 'Verique que el valor ingresado es positivo'\n",
    "        \n",
    "        if numero > 2:\n",
    "            numero = numero * self.factorial(numero - 1)\n",
    "        return numero\n"
   ]
  },
  {
   "cell_type": "markdown",
   "metadata": {},
   "source": [
    "6) Probar las funciones incorporadas en la clase del punto 5"
   ]
  },
  {
   "cell_type": "code",
   "execution_count": 48,
   "metadata": {},
   "outputs": [
    {
     "data": {
      "text/plain": [
       "__main__.operaciones"
      ]
     },
     "execution_count": 48,
     "metadata": {},
     "output_type": "execute_result"
    }
   ],
   "source": [
    "num = operaciones()\n",
    "type(num)"
   ]
  },
  {
   "cell_type": "code",
   "execution_count": 51,
   "metadata": {},
   "outputs": [
    {
     "name": "stdout",
     "output_type": "stream",
     "text": [
      "Funcion Verificar Primo: True\n",
      "Funcion Valor Modal:\n",
      "Hay mas de un valor modal\n",
      "La moda es: 9 Tiene una frecuencia de: 5\n",
      "Funcion Conversion Grados: 77.0\n",
      "Funcion Factorial: 40320\n"
     ]
    }
   ],
   "source": [
    "print('Funcion Verificar Primo:',num.es_primo(5))\n",
    "\n",
    "print('Funcion Valor Modal:')\n",
    "lista6 = [1,3,4,5,4,3,7,5,74,53,42,5,5,756,8,69,45,43,52,6,6,6,6,5,6,9,9,9,9,9]\n",
    "moda, frecuencia = num.moda_mayor_menor(lista6)\n",
    "print('La moda es:', moda, 'Tiene una frecuencia de:', frecuencia )\n",
    "\n",
    "print('Funcion Conversion Grados:',num.convertir_temperatura(25,'C','F'))\n",
    "\n",
    "print('Funcion Factorial:',num.factorial(8))"
   ]
  },
  {
   "cell_type": "markdown",
   "metadata": {},
   "source": [
    "7) Es necesario que la clase creada en el punto 5 contenga una lista, sobre la cual se aplquen las funciones incorporadas"
   ]
  },
  {
   "cell_type": "code",
   "execution_count": 1,
   "metadata": {},
   "outputs": [],
   "source": [
    "class operaciones_lista:\n",
    "    def __init__(self, lista = list()):\n",
    "        self.lista = lista\n",
    "    \n",
    "    def es_primo(self):\n",
    "        for numero in self.lista:\n",
    "            if self.__es_primo(numero):\n",
    "                print(numero,'es un numero primo')\n",
    "            else:\n",
    "                print(numero,'no es un numero primo')\n",
    "    \n",
    "    def convertir_temperatura(self, origen, destino):\n",
    "        for temperatura in self.lista:\n",
    "            print(temperatura, 'grados', origen, 'en grados', destino, '=', self.__convertir_temperatura(temperatura,origen,destino) )\n",
    "    \n",
    "    def factorial(self):\n",
    "        for numero in self.lista:\n",
    "            print(numero, 'factorial es:', self.__factorial(numero))\n",
    "\n",
    "    def __es_primo (self, numero):\n",
    "        \n",
    "        primo = True\n",
    "        if numero > 1 :\n",
    "            i = 1\n",
    "            while numero - i > 1:        \n",
    "                if numero % (numero - i) == 0 :\n",
    "                    primo = False\n",
    "                    break\n",
    "                i += 1\n",
    "        else:\n",
    "            primo = False\n",
    "        return primo\n",
    "    \n",
    "    def moda_mayor_menor (self,mayor = True):\n",
    "        '''\n",
    "        Si hay mas de un valor modal, se mostrará el valor mayor por defecto.\n",
    "        Para mostrar el valor menor ingrese el parámetro 'mayor = False'\n",
    "        '''\n",
    "\n",
    "        rep = 1\n",
    "        for numero in self.lista:\n",
    "            if self.lista.count(numero) > rep:\n",
    "                rep = self.lista.count(numero)\n",
    "\n",
    "        mas_reps = []\n",
    "        for numero in self.lista:\n",
    "            if (self.lista.count(numero) == rep) and not(numero in mas_reps):\n",
    "                mas_reps.append(numero)\n",
    "\n",
    "        if len(mas_reps) <= 1:\n",
    "            moda = mas_reps[0]        \n",
    "        else:\n",
    "            print('Hay mas de un valor modal')\n",
    "            if mayor:\n",
    "                i = 1\n",
    "                num = mas_reps[i-1]\n",
    "                while i < len(mas_reps):\n",
    "                    if mas_reps[i] > num:\n",
    "                        num = mas_reps[i]\n",
    "                    i += 1   \n",
    "                moda = num    \n",
    "            else :\n",
    "                i = 1\n",
    "                num = mas_reps[i-1]\n",
    "                while i < len(mas_reps):\n",
    "                    if mas_reps[i] < num:\n",
    "                        num = mas_reps[i]\n",
    "                    i += 1   \n",
    "                moda = num\n",
    "        return moda, self.lista.count(moda)\n",
    "    \n",
    "    def __convertir_temperatura(self, temperatura,grados_origen, grados_destino):\n",
    "        '''\n",
    "        Ingrese los siguientes valores en los parámetros para \n",
    "        indicar el tipo de sistema de medición de temperatura:\n",
    "\n",
    "        Celsius: 'C'\n",
    "        Farenheit: 'F' \n",
    "        Kelvin: 'K'\n",
    "        '''\n",
    "\n",
    "        conversion = None\n",
    "        \n",
    "        if (grados_origen == 'C'):\n",
    "\n",
    "            if (grados_destino == 'C'):\n",
    "                conversion = temperatura\n",
    "            elif (grados_destino == 'F'):\n",
    "                conversion = (temperatura * (9/5)) + 32\n",
    "            elif (grados_destino == 'K'):\n",
    "                conversion = temperatura + 273.15 \n",
    "            else:\n",
    "                print('Verifique valor ingresado en grados de destino')\n",
    "\n",
    "        elif (grados_origen == 'F'):\n",
    "            if (grados_destino == 'F'):\n",
    "                conversion = temperatura\n",
    "            elif (grados_destino == 'C'):\n",
    "                conversion = (temperatura - 32) * (5/9)\n",
    "            elif (grados_destino == 'K'):\n",
    "                c = (temperatura - 32) * (5/9)\n",
    "                conversion = c + 273.15\n",
    "            else:\n",
    "                print('Verifique valor ingresado en grados de destino')\n",
    "        \n",
    "        elif (grados_origen == 'K'):\n",
    "\n",
    "            if (grados_destino == 'K'):\n",
    "                conversion = temperatura\n",
    "            elif (grados_destino == 'C'):\n",
    "                conversion = temperatura - 273.15\n",
    "            elif (grados_destino == 'F'):\n",
    "                c = temperatura - 273.15\n",
    "                conversion = (c * (9/5)) + 32\n",
    "            else:\n",
    "                print('Verifique valor ingresado en grados de destino')\n",
    "        else:\n",
    "            print('Verifique valor ingresado en grados de origen')\n",
    "        return conversion\n",
    "    \n",
    "    def __factorial (self,numero):\n",
    "        '''\n",
    "        Devuelve el factorial\n",
    "        '''\n",
    "\n",
    "        if type(numero) != int: \n",
    "            return 'Verique que el valor ingresado es un entero'\n",
    "        if numero < 1:\n",
    "            return 'Verique que el valor ingresado es positivo'\n",
    "        \n",
    "        if numero > 2:\n",
    "            numero = numero * self.__factorial(numero - 1)\n",
    "        return numero\n"
   ]
  },
  {
   "cell_type": "code",
   "execution_count": 2,
   "metadata": {},
   "outputs": [
    {
     "data": {
      "text/plain": [
       "__main__.operaciones_lista"
      ]
     },
     "execution_count": 2,
     "metadata": {},
     "output_type": "execute_result"
    }
   ],
   "source": [
    "lista7 = [1,3,4,5,4,3,7,5,74,53,42,5,5,756,8,69,45,43,52,6,6,6,6,5,6,9,9,9,9,9]\n",
    "op_lista = operaciones_lista(lista7)\n",
    "type(op_lista)"
   ]
  },
  {
   "cell_type": "code",
   "execution_count": 3,
   "metadata": {},
   "outputs": [
    {
     "name": "stdout",
     "output_type": "stream",
     "text": [
      "1 no es un numero primo\n",
      "3 es un numero primo\n",
      "4 no es un numero primo\n",
      "5 es un numero primo\n",
      "4 no es un numero primo\n",
      "3 es un numero primo\n",
      "7 es un numero primo\n",
      "5 es un numero primo\n",
      "74 no es un numero primo\n",
      "53 es un numero primo\n",
      "42 no es un numero primo\n",
      "5 es un numero primo\n",
      "5 es un numero primo\n",
      "756 no es un numero primo\n",
      "8 no es un numero primo\n",
      "69 no es un numero primo\n",
      "45 no es un numero primo\n",
      "43 es un numero primo\n",
      "52 no es un numero primo\n",
      "6 no es un numero primo\n",
      "6 no es un numero primo\n",
      "6 no es un numero primo\n",
      "6 no es un numero primo\n",
      "5 es un numero primo\n",
      "6 no es un numero primo\n",
      "9 no es un numero primo\n",
      "9 no es un numero primo\n",
      "9 no es un numero primo\n",
      "9 no es un numero primo\n",
      "9 no es un numero primo\n",
      "None\n"
     ]
    }
   ],
   "source": [
    "print(op_lista.es_primo())"
   ]
  },
  {
   "cell_type": "code",
   "execution_count": 4,
   "metadata": {},
   "outputs": [
    {
     "name": "stdout",
     "output_type": "stream",
     "text": [
      "Hay mas de un valor modal\n",
      "La moda es: 9 Tiene una frecuencia de: 5\n"
     ]
    }
   ],
   "source": [
    "moda, frecuencia = op_lista.moda_mayor_menor()\n",
    "print('La moda es:', moda, 'Tiene una frecuencia de:', frecuencia )"
   ]
  },
  {
   "cell_type": "code",
   "execution_count": 5,
   "metadata": {},
   "outputs": [
    {
     "name": "stdout",
     "output_type": "stream",
     "text": [
      "1 grados C en grados F = 33.8\n",
      "3 grados C en grados F = 37.4\n",
      "4 grados C en grados F = 39.2\n",
      "5 grados C en grados F = 41.0\n",
      "4 grados C en grados F = 39.2\n",
      "3 grados C en grados F = 37.4\n",
      "7 grados C en grados F = 44.6\n",
      "5 grados C en grados F = 41.0\n",
      "74 grados C en grados F = 165.20000000000002\n",
      "53 grados C en grados F = 127.4\n",
      "42 grados C en grados F = 107.60000000000001\n",
      "5 grados C en grados F = 41.0\n",
      "5 grados C en grados F = 41.0\n",
      "756 grados C en grados F = 1392.8\n",
      "8 grados C en grados F = 46.4\n",
      "69 grados C en grados F = 156.2\n",
      "45 grados C en grados F = 113.0\n",
      "43 grados C en grados F = 109.4\n",
      "52 grados C en grados F = 125.60000000000001\n",
      "6 grados C en grados F = 42.8\n",
      "6 grados C en grados F = 42.8\n",
      "6 grados C en grados F = 42.8\n",
      "6 grados C en grados F = 42.8\n",
      "5 grados C en grados F = 41.0\n",
      "6 grados C en grados F = 42.8\n",
      "9 grados C en grados F = 48.2\n",
      "9 grados C en grados F = 48.2\n",
      "9 grados C en grados F = 48.2\n",
      "9 grados C en grados F = 48.2\n",
      "9 grados C en grados F = 48.2\n",
      "None\n"
     ]
    }
   ],
   "source": [
    "print(op_lista.convertir_temperatura('C','F'))"
   ]
  },
  {
   "cell_type": "code",
   "execution_count": 6,
   "metadata": {},
   "outputs": [
    {
     "name": "stdout",
     "output_type": "stream",
     "text": [
      "1 factorial es: 1\n",
      "3 factorial es: 6\n",
      "4 factorial es: 24\n",
      "5 factorial es: 120\n",
      "4 factorial es: 24\n",
      "3 factorial es: 6\n",
      "7 factorial es: 5040\n",
      "5 factorial es: 120\n",
      "74 factorial es: 330788544151938641225953028221253782145683251820934971170611926835411235700971565459250872320000000000000000\n",
      "53 factorial es: 4274883284060025564298013753389399649690343788366813724672000000000000\n",
      "42 factorial es: 1405006117752879898543142606244511569936384000000000\n",
      "5 factorial es: 120\n",
      "5 factorial es: 120\n",
      "756 factorial es: 47233245066922563248409088337271433772768643880500837033906752614028254957767468999647302592933176489088323770444527291678980983070613047296994623768416721053381614055490069133485584567119952196986947783677589223175662140107179887508588070261587775781774062605851756015108064768988052466089340410892518040719195839197422709081943789273274821953762791243642725718855984854634715014976754110227294600367805530593804922572673868182656477810272287633512606961175820184919518900182961133811579429125905181001251755676125467234771704209490934501494467912011962110424356230868918306332139308470759028745163916697884676275108830979240212956390293381861146648688592922598784841766374732474530667808595933178607913009481812908187332656855671715835065766838738808856799238984184768404592941323829496806990934125136086871581659529084016543936674632625525146078698994216737080685851713890903234349122375861586903964584594836567126748368081474800338762587880791067199885772491314652457429062979284166696234536485635082958018691692170212356970079040773767353010209455087340353375308347805636585766214123540487206371404714532230209244754643271815287231314956774622102317093603726692485751375711525270439474667960020554676531512381117004418143182280322679896601383188519889789619012362979181127464465638072171614872302494173195891065842450105113061749701275036780687107434462425553388947985443861397746435136340381313147581042226591842630060845122033409374467784852528389706520812962701485009008162518878868604498778319111258965801687574850489036070733009589245536226635120997108150428343156067597196042914828570542489716223602256152952376827624611413048090483282032554929658265600000000000000000000000000000000000000000000000000000000000000000000000000000000000000000000000000000000000000000000000000000000000000000000000000000000000000000000000000000000000000000000\n",
      "8 factorial es: 40320\n",
      "69 factorial es: 171122452428141311372468338881272839092270544893520369393648040923257279754140647424000000000000000\n",
      "45 factorial es: 119622220865480194561963161495657715064383733760000000000\n",
      "43 factorial es: 60415263063373835637355132068513997507264512000000000\n",
      "52 factorial es: 80658175170943878571660636856403766975289505440883277824000000000000\n",
      "6 factorial es: 720\n",
      "6 factorial es: 720\n",
      "6 factorial es: 720\n",
      "6 factorial es: 720\n",
      "5 factorial es: 120\n",
      "6 factorial es: 720\n",
      "9 factorial es: 362880\n",
      "9 factorial es: 362880\n",
      "9 factorial es: 362880\n",
      "9 factorial es: 362880\n",
      "9 factorial es: 362880\n",
      "None\n"
     ]
    }
   ],
   "source": [
    "print(op_lista.factorial())"
   ]
  },
  {
   "cell_type": "markdown",
   "metadata": {},
   "source": [
    "8) Crear un archivo .py aparte y ubicar allí la clase generada en el punto anterior. Luego realizar la importación del módulo y probar alguna de sus funciones"
   ]
  },
  {
   "cell_type": "code",
   "execution_count": 7,
   "metadata": {},
   "outputs": [],
   "source": [
    "import class_7 as ol"
   ]
  },
  {
   "cell_type": "code",
   "execution_count": 8,
   "metadata": {},
   "outputs": [
    {
     "data": {
      "text/plain": [
       "class_7.operaciones_lista"
      ]
     },
     "execution_count": 8,
     "metadata": {},
     "output_type": "execute_result"
    }
   ],
   "source": [
    "lista8 = [1,3,4,5,4,3,7,5,53,42,5,5,8,69,45,43,52,6,6,6,6,5,6,9,9,9,9,9]\n",
    "op_lista = ol.operaciones_lista(lista8)\n",
    "type(op_lista)\n"
   ]
  },
  {
   "cell_type": "code",
   "execution_count": 9,
   "metadata": {},
   "outputs": [
    {
     "name": "stdout",
     "output_type": "stream",
     "text": [
      "1 no es un numero primo\n",
      "3 es un numero primo\n",
      "4 no es un numero primo\n",
      "5 es un numero primo\n",
      "4 no es un numero primo\n",
      "3 es un numero primo\n",
      "7 es un numero primo\n",
      "5 es un numero primo\n",
      "53 es un numero primo\n",
      "42 no es un numero primo\n",
      "5 es un numero primo\n",
      "5 es un numero primo\n",
      "8 no es un numero primo\n",
      "69 no es un numero primo\n",
      "45 no es un numero primo\n",
      "43 es un numero primo\n",
      "52 no es un numero primo\n",
      "6 no es un numero primo\n",
      "6 no es un numero primo\n",
      "6 no es un numero primo\n",
      "6 no es un numero primo\n",
      "5 es un numero primo\n",
      "6 no es un numero primo\n",
      "9 no es un numero primo\n",
      "9 no es un numero primo\n",
      "9 no es un numero primo\n",
      "9 no es un numero primo\n",
      "9 no es un numero primo\n"
     ]
    }
   ],
   "source": [
    "op_lista.es_primo()"
   ]
  },
  {
   "cell_type": "code",
   "execution_count": 10,
   "metadata": {},
   "outputs": [
    {
     "name": "stdout",
     "output_type": "stream",
     "text": [
      "Hay mas de un valor modal\n",
      "La moda es: 9 con una frecuencia de: 5\n"
     ]
    }
   ],
   "source": [
    "moda, frecuencia = op_lista.moda_mayor_menor()\n",
    "print('La moda es:', moda, 'con una frecuencia de:', frecuencia)"
   ]
  },
  {
   "cell_type": "code",
   "execution_count": 11,
   "metadata": {},
   "outputs": [
    {
     "name": "stdout",
     "output_type": "stream",
     "text": [
      "1 grados C en grados F = 33.8\n",
      "3 grados C en grados F = 37.4\n",
      "4 grados C en grados F = 39.2\n",
      "5 grados C en grados F = 41.0\n",
      "4 grados C en grados F = 39.2\n",
      "3 grados C en grados F = 37.4\n",
      "7 grados C en grados F = 44.6\n",
      "5 grados C en grados F = 41.0\n",
      "53 grados C en grados F = 127.4\n",
      "42 grados C en grados F = 107.60000000000001\n",
      "5 grados C en grados F = 41.0\n",
      "5 grados C en grados F = 41.0\n",
      "8 grados C en grados F = 46.4\n",
      "69 grados C en grados F = 156.2\n",
      "45 grados C en grados F = 113.0\n",
      "43 grados C en grados F = 109.4\n",
      "52 grados C en grados F = 125.60000000000001\n",
      "6 grados C en grados F = 42.8\n",
      "6 grados C en grados F = 42.8\n",
      "6 grados C en grados F = 42.8\n",
      "6 grados C en grados F = 42.8\n",
      "5 grados C en grados F = 41.0\n",
      "6 grados C en grados F = 42.8\n",
      "9 grados C en grados F = 48.2\n",
      "9 grados C en grados F = 48.2\n",
      "9 grados C en grados F = 48.2\n",
      "9 grados C en grados F = 48.2\n",
      "9 grados C en grados F = 48.2\n"
     ]
    }
   ],
   "source": [
    "op_lista.convertir_temperatura('C', 'F')"
   ]
  },
  {
   "cell_type": "code",
   "execution_count": 12,
   "metadata": {},
   "outputs": [
    {
     "name": "stdout",
     "output_type": "stream",
     "text": [
      "1 factorial es: 1\n",
      "3 factorial es: 6\n",
      "4 factorial es: 24\n",
      "5 factorial es: 120\n",
      "4 factorial es: 24\n",
      "3 factorial es: 6\n",
      "7 factorial es: 5040\n",
      "5 factorial es: 120\n",
      "53 factorial es: 4274883284060025564298013753389399649690343788366813724672000000000000\n",
      "42 factorial es: 1405006117752879898543142606244511569936384000000000\n",
      "5 factorial es: 120\n",
      "5 factorial es: 120\n",
      "8 factorial es: 40320\n",
      "69 factorial es: 171122452428141311372468338881272839092270544893520369393648040923257279754140647424000000000000000\n",
      "45 factorial es: 119622220865480194561963161495657715064383733760000000000\n",
      "43 factorial es: 60415263063373835637355132068513997507264512000000000\n",
      "52 factorial es: 80658175170943878571660636856403766975289505440883277824000000000000\n",
      "6 factorial es: 720\n",
      "6 factorial es: 720\n",
      "6 factorial es: 720\n",
      "6 factorial es: 720\n",
      "5 factorial es: 120\n",
      "6 factorial es: 720\n",
      "9 factorial es: 362880\n",
      "9 factorial es: 362880\n",
      "9 factorial es: 362880\n",
      "9 factorial es: 362880\n",
      "9 factorial es: 362880\n"
     ]
    }
   ],
   "source": [
    "op_lista.factorial()"
   ]
  },
  {
   "cell_type": "code",
   "execution_count": null,
   "metadata": {},
   "outputs": [],
   "source": []
  }
 ],
 "metadata": {
  "interpreter": {
   "hash": "c85384e4cb51c8b72350f3a8712cc8351fdc3955e32a27f9b60c6242ab125f01"
  },
  "kernelspec": {
   "display_name": "Python 3 (ipykernel)",
   "language": "python",
   "name": "python3"
  },
  "language_info": {
   "codemirror_mode": {
    "name": "ipython",
    "version": 3
   },
   "file_extension": ".py",
   "mimetype": "text/x-python",
   "name": "python",
   "nbconvert_exporter": "python",
   "pygments_lexer": "ipython3",
   "version": "3.9.7"
  }
 },
 "nbformat": 4,
 "nbformat_minor": 4
}
